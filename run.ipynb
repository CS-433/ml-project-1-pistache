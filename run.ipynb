{
 "cells": [
  {
   "cell_type": "code",
   "execution_count": 1,
   "metadata": {
    "collapsed": true
   },
   "outputs": [],
   "source": [
    "import numpy as np\n",
    "import matplotlib.pyplot as plt\n",
    "from helpers import *\n",
    "from implementations import (\n",
    "    mean_squared_error_gd,\n",
    "    mean_squared_error_sgd,\n",
    "    least_squares,\n",
    "    ridge_regression,\n",
    "    logistic_regression,\n",
    "    reg_logistic_regression,\n",
    "    predict_simple,\n",
    "    predict_logistic,\n",
    "    penalized_logistic_regression,\n",
    ")"
   ]
  },
  {
   "cell_type": "code",
   "execution_count": 2,
   "outputs": [],
   "source": [
    "# Loading the data\n",
    "Y, X, ids = load_csv_data(\"data/train.csv\", sub_sample=False)"
   ],
   "metadata": {
    "collapsed": false
   }
  },
  {
   "cell_type": "code",
   "execution_count": 3,
   "outputs": [],
   "source": [
    "# Splitting the train and local test datasets\n",
    "N = X.shape[0]\n",
    "thresh = int(0.9 * N)\n",
    "X_train, X_test_local = X[:thresh], X[thresh:]\n",
    "Y_train, Y_test_local = Y[:thresh], Y[thresh:]\n",
    "ids_train, ids_test_local = ids[:thresh], ids[thresh:]"
   ],
   "metadata": {
    "collapsed": false
   }
  },
  {
   "cell_type": "code",
   "execution_count": 4,
   "outputs": [],
   "source": [
    "np.random.seed(42)"
   ],
   "metadata": {
    "collapsed": false
   }
  },
  {
   "cell_type": "code",
   "execution_count": 5,
   "outputs": [],
   "source": [
    "# Partition the data based on the value of the PRI_JET_NUM (feature number 22)\n",
    "xs, ys, _ = partition_data(X_train, Y_train, ids_train)"
   ],
   "metadata": {
    "collapsed": false
   }
  },
  {
   "cell_type": "code",
   "execution_count": 6,
   "outputs": [],
   "source": [
    "# Data Visualization [Please Uncomment if you want to see the plots]\n",
    "\n",
    "# columns_names = [\"DER_mass_MMC\", \"DER_mass_transverse_met_lep\", \"DER_mass_vis\", \"DER_pt_h\", \"DER_deltaeta_jet_jet\", \"DER_mass_jet_jet\", \"DER_prodeta_jet_jet\",\t\"DER_deltar_tau_lep\",\t\"DER_pt_tot\",\t\"DER_sum_pt\",\t\"DER_pt_ratio_lep_tau\",\t\"DER_met_phi_centrality\",\t\"DER_lep_eta_centrality\",\t\"PRI_tau_pt\",\t\"PRI_tau_eta\",\t\"PRI_tau_phi\",\t\"PRI_lep_pt\",\t\"PRI_lep_eta\",\t\"PRI_lep_phi\",\t\"PRI_met\",\t\"PRI_met_phi\",\t\"PRI_met_sumet\",\t\"PRI_jet_num\",\t\"PRI_jet_leading_pt\",\t\"PRI_jet_leading_eta\", \"PRI_jet_leading_phi\", \"PRI_jet_subleading_pt\", \"PRI_jet_subleading_eta\", \"PRI_jet_subleading_phi\", \"PRI_jet_all_pt\"]\n",
    "#\n",
    "#\n",
    "# ## Plot Box Plots\n",
    "# for i, x in enumerate(xs):\n",
    "#     for j in range(x.shape[1]):\n",
    "#         plt.boxplot(x[:, j][x[:, j]!=-999])\n",
    "#         plt.title(\"BoxPlot for: \" +  columns_names[j]  + \" of sub-dataset: \" + str(i))\n",
    "#         plt.ylabel(\"values\")\n",
    "#         plt.show()\n",
    "#\n",
    "#\n",
    "# # Plot Histograms\n",
    "# ## Plot Box Plots\n",
    "# for i, x in enumerate(xs):\n",
    "#     for j in range(x.shape[1]):\n",
    "#         plt.hist(x[:, j][x[:, j]!=-999], bins=40)\n",
    "#         plt.title(\"Histogram for: \" +  columns_names[j]  + \" of sub-dataset: \" + str(i))\n",
    "#         plt.ylabel(\"count\")\n",
    "#         plt.xlabel(\"value\")\n",
    "#         plt.show()"
   ],
   "metadata": {
    "collapsed": false
   }
  },
  {
   "cell_type": "code",
   "execution_count": 7,
   "outputs": [],
   "source": [
    "# Perform feature engineering on the samples of the TRAIN SET\n",
    "for i, x in enumerate(xs):\n",
    "    xs[i] = process_features(x)"
   ],
   "metadata": {
    "collapsed": false
   }
  },
  {
   "cell_type": "code",
   "execution_count": 8,
   "outputs": [],
   "source": [
    "# Perform 4-Fold cross validation in order to find the best hyper-parameters (lambdas) for Ridge Regression Classifier [Please uncomment if you need to redo the cross-validation.\n",
    "\n",
    "# lambdas = []\n",
    "# # for i, x, y in zip(range(len(xs)), xs, ys):\n",
    "# #     best_lambda, best_loss = do_cross_validation(x, y, nfolds = 4)\n",
    "# #     lambdas.append(best_lambda)\n",
    "# #     print(f'set {i}: Optimal lambda = {best_lambda} leads to loss = {best_loss}')"
   ],
   "metadata": {
    "collapsed": false
   }
  },
  {
   "cell_type": "code",
   "execution_count": 9,
   "outputs": [],
   "source": [
    "# lambdas for Least Squared method\n",
    "# lambdas = [0, 0, 0, 0]\n",
    "\n",
    "# lambdas for Ridge Regression method calculated by the k-fold cross validation\n",
    "lambdas = [\n",
    "    1.0690192046030011e-05,\n",
    "    1.1428020598100333e-05,\n",
    "    1.1428020598100333e-05,\n",
    "    1e-05,\n",
    "]"
   ],
   "metadata": {
    "collapsed": false
   }
  },
  {
   "cell_type": "code",
   "execution_count": 10,
   "outputs": [
    {
     "name": "stdout",
     "output_type": "stream",
     "text": [
      "training the model on sub-dataset number:  0\n",
      "training accuracy on set0: 0.8455495055006111\n",
      "training the model on sub-dataset number:  1\n",
      "training accuracy on set1: 0.8138737937857563\n",
      "training the model on sub-dataset number:  2\n",
      "training accuracy on set2: 0.8510779143405636\n",
      "training the model on sub-dataset number:  3\n",
      "training accuracy on set3: 0.849308201323441\n",
      "\n",
      "\n",
      "Weighted mean accuracy for training data =  0.8371777777777778\n",
      "Weighted F1-Score for training data =  0.7251520995136838\n"
     ]
    }
   ],
   "source": [
    "# Train the models on sub-datasets\n",
    "ws = []\n",
    "accuracies = []\n",
    "\n",
    "f1scores = []\n",
    "for i, x, y in zip(range(len(xs)), xs, ys):\n",
    "    print(\"training the model on sub-dataset number: \", i)\n",
    "    x = add_bias(x)\n",
    "    lambda_ = lambdas[i]\n",
    "    w, loss = ridge_regression(y, x, lambda_)\n",
    "    ws.append(w)\n",
    "    y_pred_i = predict_simple(x, w)\n",
    "    accuracy_set_i = (y_pred_i == y).mean()\n",
    "    print(\"training accuracy on set\" + str(i) + \":\", accuracy_set_i)\n",
    "    accuracies.append(accuracy_set_i)\n",
    "    f1scores.append(f1(y, y_pred_i))\n",
    "\n",
    "population_percentage = np.array([p.shape[0] / X_train.shape[0] for p in xs])\n",
    "print(\n",
    "    \"\\n\\nWeighted mean accuracy for training data = \",\n",
    "    (accuracies * population_percentage).sum(),\n",
    ")\n",
    "print(\n",
    "    \"Weighted F1-Score for training data = \", (f1scores * population_percentage).sum()\n",
    ")"
   ],
   "metadata": {
    "collapsed": false
   }
  },
  {
   "cell_type": "code",
   "execution_count": 11,
   "outputs": [],
   "source": [
    "# Local Testing using local test set\n",
    "\n",
    "# Partition the local test data based on the value of the PRI_JET_NUM (feature number 22)\n",
    "xs_test_local, ys_test_local, _ = partition_data(\n",
    "    X_test_local, Y_test_local, ids_test_local\n",
    ")\n",
    "\n",
    "# Perform feature engineering on the local test dataset\n",
    "for i, x in enumerate(xs_test_local):\n",
    "    xs_test_local[i] = process_features(x)"
   ],
   "metadata": {
    "collapsed": false
   }
  },
  {
   "cell_type": "code",
   "execution_count": 12,
   "outputs": [
    {
     "name": "stdout",
     "output_type": "stream",
     "text": [
      "test accuracy on set0: 0.8396654237629749\n",
      "test accuracy on set1: 0.8079733367516985\n",
      "test accuracy on set2: 0.8450592885375494\n",
      "test accuracy on set3: 0.8560469314079422\n",
      "\n",
      "\n",
      "Weighted mean accuracy for local test set =  0.8323199999999998\n",
      "\n",
      "\n",
      "Weighted F1-Score for local test data =  0.7173444738972649\n"
     ]
    }
   ],
   "source": [
    "# Perform feature engineering on the samples of the local test set\n",
    "accuracies = []\n",
    "f1scores = []\n",
    "for i, x, y in zip(range(len(xs_test_local)), xs_test_local, ys_test_local):\n",
    "    x = add_bias(x)\n",
    "    # calculate labels\n",
    "    y_pred_i = predict_simple(x, ws[i])\n",
    "    accuracy_set_i = (y_pred_i == y).mean()\n",
    "    print(\"test accuracy on set\" + str(i) + \":\", accuracy_set_i)\n",
    "    accuracies.append(accuracy_set_i)\n",
    "    f1scores.append(f1(y, y_pred_i))\n",
    "# Calculating the weighted mean accuracy across the 4 sub-datasets:\n",
    "population_percentage = np.array(\n",
    "    [p.shape[0] / X_test_local.shape[0] for p in xs_test_local]\n",
    ")\n",
    "print(\n",
    "    \"\\n\\nWeighted mean accuracy for local test set = \",\n",
    "    (accuracies * population_percentage).sum(),\n",
    ")\n",
    "print(\n",
    "    \"\\n\\nWeighted F1-Score for local test data = \",\n",
    "    (f1scores * population_percentage).sum(),\n",
    ")"
   ],
   "metadata": {
    "collapsed": false
   }
  },
  {
   "cell_type": "code",
   "execution_count": 13,
   "outputs": [
    {
     "name": "stdout",
     "output_type": "stream",
     "text": [
      "training the model on sub-dataset number:  0\n",
      "training the model on sub-dataset number:  1\n",
      "training the model on sub-dataset number:  2\n",
      "training the model on sub-dataset number:  3\n"
     ]
    }
   ],
   "source": [
    "# Train the models on sub-datasets (Uncomment if you need to train the data on the whole dataset. However, it does not change the performance)\n",
    "\n",
    "Xs, Ys, _ = partition_data(X, Y, ids)\n",
    "for i, x in enumerate(Xs):\n",
    "    Xs[i] = process_features(x)\n",
    "\n",
    "Ws = []\n",
    "\n",
    "for i, x, y in zip(range(len(Xs)), Xs, Ys):\n",
    "    print(\"training the model on sub-dataset number: \", i)\n",
    "    x = add_bias(x)\n",
    "    lambda_ = lambdas[i]\n",
    "    w, loss = ridge_regression(y, x, lambda_)\n",
    "    Ws.append(w)\n",
    "ws = Ws"
   ],
   "metadata": {
    "collapsed": false
   }
  },
  {
   "cell_type": "code",
   "execution_count": 14,
   "outputs": [],
   "source": [
    "# Loading the main (AICrowd) test data\n",
    "Y_test, X_test, ids_test = load_csv_data(\"data/test.csv\", sub_sample=False)"
   ],
   "metadata": {
    "collapsed": false
   }
  },
  {
   "cell_type": "code",
   "execution_count": 15,
   "outputs": [],
   "source": [
    "# Partition the test data based on the value of the PRI_JET_NUM (feature number 22)\n",
    "xs_test, _, idss_test = partition_data(X_test, Y_test, ids_test)"
   ],
   "metadata": {
    "collapsed": false
   }
  },
  {
   "cell_type": "code",
   "execution_count": 16,
   "outputs": [],
   "source": [
    "# Perform feature engineering on the test dataset\n",
    "for i, x in enumerate(xs_test):\n",
    "    xs_test[i] = process_features(x)"
   ],
   "metadata": {
    "collapsed": false
   }
  },
  {
   "cell_type": "code",
   "execution_count": 17,
   "outputs": [],
   "source": [
    "# Finding the predictions on the test set\n",
    "labels = []\n",
    "for i, x_test in enumerate(xs_test):\n",
    "    x_test = add_bias(x_test)\n",
    "    # calculate labels\n",
    "    labels_partition = predict_simple(x_test, ws[i])\n",
    "    labels.append(labels_partition)\n",
    "\n",
    "y_preds = np.concatenate(labels)"
   ],
   "metadata": {
    "collapsed": false
   }
  },
  {
   "cell_type": "code",
   "execution_count": 18,
   "outputs": [],
   "source": [
    "# Producing the sumbission.csv output\n",
    "idss_test_concat = np.concatenate(idss_test)\n",
    "idx_ids_sorted = np.argsort(idss_test_concat)\n",
    "idss_test_concat = idss_test_concat[idx_ids_sorted]\n",
    "\n",
    "y_preds = y_preds[idx_ids_sorted]\n",
    "\n",
    "create_csv_submission(idss_test_concat, y_preds, \"submission.csv\")"
   ],
   "metadata": {
    "collapsed": false
   }
  }
 ],
 "metadata": {
  "kernelspec": {
   "display_name": "Python 3",
   "language": "python",
   "name": "python3"
  },
  "language_info": {
   "codemirror_mode": {
    "name": "ipython",
    "version": 2
   },
   "file_extension": ".py",
   "mimetype": "text/x-python",
   "name": "python",
   "nbconvert_exporter": "python",
   "pygments_lexer": "ipython2",
   "version": "2.7.6"
  }
 },
 "nbformat": 4,
 "nbformat_minor": 0
}
