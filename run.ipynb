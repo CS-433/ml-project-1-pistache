{
 "cells": [
  {
   "cell_type": "code",
   "execution_count": 1,
   "metadata": {
    "collapsed": true
   },
   "outputs": [],
   "source": [
    "import numpy as np\n",
    "import matplotlib.pyplot as plt\n",
    "from helpers import *\n",
    "from implementations import mean_squared_error_gd, mean_squared_error_sgd, least_squares, ridge_regression, \\\n",
    "    logistic_regression, reg_logistic_regression, predict_simple, predict_logistic, penalized_logistic_regression"
   ]
  },
  {
   "cell_type": "code",
   "execution_count": 2,
   "outputs": [],
   "source": [
    "Y, X, ids = load_csv_data(\"data/train.csv\", sub_sample=False)"
   ],
   "metadata": {
    "collapsed": false
   }
  },
  {
   "cell_type": "code",
   "execution_count": 3,
   "outputs": [],
   "source": [
    "np.random.seed(42)"
   ],
   "metadata": {
    "collapsed": false
   }
  },
  {
   "cell_type": "code",
   "execution_count": 4,
   "outputs": [],
   "source": [
    "# Partition the data based on the value of the PRI_JET_NUM (feature number 22)\n",
    "xs, ys, _ = partition_data(X, Y, ids)"
   ],
   "metadata": {
    "collapsed": false
   }
  },
  {
   "cell_type": "code",
   "execution_count": 5,
   "outputs": [],
   "source": [
    "# columns_names = [\"DER_mass_MMC\", \"DER_mass_transverse_met_lep\", \"DER_mass_vis\", \"DER_pt_h\", \"DER_deltaeta_jet_jet\", \"DER_mass_jet_jet\", \"DER_prodeta_jet_jet\",\t\"DER_deltar_tau_lep\",\t\"DER_pt_tot\",\t\"DER_sum_pt\",\t\"DER_pt_ratio_lep_tau\",\t\"DER_met_phi_centrality\",\t\"DER_lep_eta_centrality\",\t\"PRI_tau_pt\",\t\"PRI_tau_eta\",\t\"PRI_tau_phi\",\t\"PRI_lep_pt\",\t\"PRI_lep_eta\",\t\"PRI_lep_phi\",\t\"PRI_met\",\t\"PRI_met_phi\",\t\"PRI_met_sumet\",\t\"PRI_jet_num\",\t\"PRI_jet_leading_pt\",\t\"PRI_jet_leading_eta\", \"PRI_jet_leading_phi\", \"PRI_jet_subleading_pt\", \"PRI_jet_subleading_eta\", \"PRI_jet_subleading_phi\", \"PRI_jet_all_pt\"]\n",
    "#\n",
    "#\n",
    "# ## Plot Box Plots\n",
    "# for i, x in enumerate(xs):\n",
    "#     for j in range(x.shape[1]):\n",
    "#         plt.boxplot(x[:, j][x[:, j]!=-999])\n",
    "#         plt.title(\"BoxPlot for: \" +  columns_names[j]  + \" of sub-dataset: \" + str(i))\n",
    "#         plt.ylabel(\"values\")\n",
    "#         plt.show()\n",
    "#\n",
    "#\n",
    "# # Plot Histograms\n",
    "# ## Plot Box Plots\n",
    "# for i, x in enumerate(xs):\n",
    "#     for j in range(x.shape[1]):\n",
    "#         plt.hist(x[:, j][x[:, j]!=-999], bins=40)\n",
    "#         plt.title(\"Histogram for: \" +  columns_names[j]  + \" of sub-dataset: \" + str(i))\n",
    "#         plt.ylabel(\"count\")\n",
    "#         plt.xlabel(\"value\")\n",
    "#         plt.show()"
   ],
   "metadata": {
    "collapsed": false
   }
  },
  {
   "cell_type": "code",
   "execution_count": 6,
   "outputs": [],
   "source": [
    "# # Perform feature engineering on the samples of the TRAIN SET\n",
    "for i, x in enumerate(xs):\n",
    "    xs[i] = process_features(x)"
   ],
   "metadata": {
    "collapsed": false
   }
  },
  {
   "cell_type": "code",
   "execution_count": 7,
   "outputs": [
    {
     "name": "stdout",
     "output_type": "stream",
     "text": [
      "set 0: Optimal lambda = 4.37547937507418e-10 leads to loss = 0.22464598465609198\n",
      "set 1: Optimal lambda = 1e-10 leads to loss = 0.2691440073196232\n",
      "set 2: Optimal lambda = 1e-10 leads to loss = 0.228181252522845\n",
      "set 3: Optimal lambda = 1.3433993325988987e-10 leads to loss = 0.22813041984996715\n"
     ]
    }
   ],
   "source": [
    "# Perform 5-Fold cross validation in order to find the best hyper-parameters (lambdas)\n",
    "\n",
    "lambdas = []\n",
    "for i, x, y in zip(range(len(xs)), xs, ys):\n",
    "    best_lambda, best_loss = do_cross_validation(x, y, nfolds = 4)\n",
    "    lambdas.append(best_lambda)\n",
    "    print(f'set {i}: Optimal lambda = {best_lambda} leads to loss = {best_loss}')"
   ],
   "metadata": {
    "collapsed": false
   }
  },
  {
   "cell_type": "code",
   "execution_count": 18,
   "outputs": [],
   "source": [
    "# lambdas for the ridge regression method\n",
    "lambdas = [0.0001, 0.0001, 0.0001, 0.0001]\n",
    "\n",
    "# lambdas for least squared method\n",
    "# lambdas = [0, 0, 0, 0]"
   ],
   "metadata": {
    "collapsed": false
   }
  },
  {
   "cell_type": "code",
   "execution_count": null,
   "outputs": [],
   "source": [
    "lambdas"
   ],
   "metadata": {
    "collapsed": false
   }
  },
  {
   "cell_type": "code",
   "execution_count": 19,
   "outputs": [
    {
     "name": "stdout",
     "output_type": "stream",
     "text": [
      "training and validation model on sub-dataset number:  0\n",
      "train accuracy: 0.8451269861128488\n",
      "validation accuracy: 0.8445678827002953\n",
      "training and validation model on sub-dataset number:  1\n",
      "train accuracy: 0.8139921012331748\n",
      "validation accuracy: 0.8111419175962344\n",
      "training and validation model on sub-dataset number:  2\n",
      "train accuracy: 0.8508051509813165\n",
      "validation accuracy: 0.8472608177848353\n",
      "training and validation model on sub-dataset number:  3\n",
      "train accuracy: 0.8489086909931758\n",
      "validation accuracy: 0.8513422061809158\n",
      "\n",
      "\n",
      "Combined validation accuracy =  0.8353432044771721\n"
     ]
    }
   ],
   "source": [
    "# Train the models on sub-datasets and validate each of the models on validation set\n",
    "\n",
    "validation_accuracy = []\n",
    "ws = []\n",
    "\n",
    "for i, x, y in zip(range(len(xs)), xs, ys):\n",
    "    print(\"training and validation model on sub-dataset number: \", i)\n",
    "    N = x.shape[0]\n",
    "    thresh = int(0.80*N)\n",
    "    x_train, x_validation = x[:thresh], x[thresh:]\n",
    "    y_train, y_validation = y[:thresh], y[thresh:]\n",
    "\n",
    "    x_train, x_validation = add_bias(x_train), add_bias(x_validation)\n",
    "    lambda_ = lambdas[i]\n",
    "    w, loss = ridge_regression(y_train, x_train, lambda_)\n",
    "    ws.append(w)\n",
    "    print(\"train accuracy:\", (predict_simple(x_train, w) == y_train).mean())\n",
    "    print(\"validation accuracy:\", (predict_simple(x_validation, w) == y_validation).mean())\n",
    "    validation_accuracy.append((predict_simple(x_validation, w) == y_validation).mean())\n",
    "\n",
    "population = np.array([p.shape[0] / X.shape[0] for p in xs])\n",
    "print(\"\\n\\nCombined validation accuracy = \", (validation_accuracy * population).sum())"
   ],
   "metadata": {
    "collapsed": false
   }
  },
  {
   "cell_type": "code",
   "execution_count": 27,
   "outputs": [],
   "source": [
    "# Loading the test data\n",
    "y_test, X_test, ids_test = load_csv_data(\"data/test.csv\", sub_sample=False)"
   ],
   "metadata": {
    "collapsed": false
   }
  },
  {
   "cell_type": "code",
   "execution_count": 28,
   "outputs": [],
   "source": [
    "# Partition the test data based on the value of the PRI_JET_NUM (feature number 22)\n",
    "xs_test, _, idss_test = partition_data(X_test, y_test, ids_test)"
   ],
   "metadata": {
    "collapsed": false
   }
  },
  {
   "cell_type": "code",
   "execution_count": 29,
   "outputs": [],
   "source": [
    "# Perform feature engineering on the samples of the TEST SET\n",
    "for i, x in enumerate(xs_test):\n",
    "    xs_test[i] = process_features(x)"
   ],
   "metadata": {
    "collapsed": false
   }
  },
  {
   "cell_type": "code",
   "execution_count": 30,
   "outputs": [],
   "source": [
    "# Finding the predictions on the test set\n",
    "labels = []\n",
    "for i, x_test in enumerate(xs_test):\n",
    "    x_test = add_bias(x_test)\n",
    "    # calculate labels\n",
    "    labels_partition = predict_simple(x_test, ws[i])\n",
    "    labels.append(labels_partition)\n",
    "\n",
    "y_preds = np.concatenate(labels)"
   ],
   "metadata": {
    "collapsed": false
   }
  },
  {
   "cell_type": "code",
   "execution_count": 31,
   "outputs": [
    {
     "name": "stdout",
     "output_type": "stream",
     "text": [
      "idss_test.shape= (568238,)\n",
      "y_preds.shape= (568238,)\n"
     ]
    }
   ],
   "source": [
    "# Producing the sumbission.csv output\n",
    "idss_test = np.concatenate(idss_test)\n",
    "idx_ids_sorted = np.argsort(idss_test)\n",
    "idss_test = idss_test[idx_ids_sorted]\n",
    "print(\"idss_test.shape=\", idss_test.shape)\n",
    "\n",
    "y_preds = y_preds[idx_ids_sorted]\n",
    "print(\"y_preds.shape=\", y_preds.shape)\n",
    "\n",
    "create_csv_submission(idss_test, y_preds, \"submission-0001.csv\")"
   ],
   "metadata": {
    "collapsed": false
   }
  }
 ],
 "metadata": {
  "kernelspec": {
   "display_name": "Python 3",
   "language": "python",
   "name": "python3"
  },
  "language_info": {
   "codemirror_mode": {
    "name": "ipython",
    "version": 2
   },
   "file_extension": ".py",
   "mimetype": "text/x-python",
   "name": "python",
   "nbconvert_exporter": "python",
   "pygments_lexer": "ipython2",
   "version": "2.7.6"
  }
 },
 "nbformat": 4,
 "nbformat_minor": 0
}
