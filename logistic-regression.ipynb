{
 "cells": [
  {
   "cell_type": "code",
   "execution_count": 12,
   "metadata": {
    "collapsed": true
   },
   "outputs": [],
   "source": [
    "import numpy as np\n",
    "import matplotlib.pyplot as plt\n",
    "from helpers import *\n",
    "from implementations import (\n",
    "    mean_squared_error_gd,\n",
    "    mean_squared_error_sgd,\n",
    "    least_squares,\n",
    "    ridge_regression,\n",
    "    logistic_regression,\n",
    "    reg_logistic_regression,\n",
    "    predict_simple,\n",
    "    predict_logistic,\n",
    "    penalized_logistic_regression,\n",
    ")"
   ]
  },
  {
   "cell_type": "code",
   "execution_count": 13,
   "outputs": [],
   "source": [
    "# Loading the data\n",
    "Y, X, ids = load_csv_data(\"data/train.csv\", sub_sample=False)"
   ],
   "metadata": {
    "collapsed": false
   }
  },
  {
   "cell_type": "code",
   "execution_count": 14,
   "outputs": [],
   "source": [
    "# Splitting the train and local test datasets\n",
    "N = X.shape[0]\n",
    "thresh = int(0.9 * N)\n",
    "X_train, X_test_local = X[:thresh], X[thresh:]\n",
    "Y_train, Y_test_local = Y[:thresh], Y[thresh:]\n",
    "ids_train, ids_test_local = ids[:thresh], ids[thresh:]"
   ],
   "metadata": {
    "collapsed": false
   }
  },
  {
   "cell_type": "code",
   "execution_count": 15,
   "outputs": [],
   "source": [
    "np.random.seed(42)"
   ],
   "metadata": {
    "collapsed": false
   }
  },
  {
   "cell_type": "code",
   "execution_count": 16,
   "outputs": [],
   "source": [
    "# Partition the data based on the value of the PRI_JET_NUM (feature number 22)\n",
    "xs, ys, _ = partition_data(X_train, Y_train, ids_train)"
   ],
   "metadata": {
    "collapsed": false
   }
  },
  {
   "cell_type": "code",
   "execution_count": 17,
   "outputs": [],
   "source": [
    "# Data Visualization [Please Uncomment if you want to see the plots]\n",
    "\n",
    "# columns_names = [\"DER_mass_MMC\", \"DER_mass_transverse_met_lep\", \"DER_mass_vis\", \"DER_pt_h\", \"DER_deltaeta_jet_jet\", \"DER_mass_jet_jet\", \"DER_prodeta_jet_jet\",\t\"DER_deltar_tau_lep\",\t\"DER_pt_tot\",\t\"DER_sum_pt\",\t\"DER_pt_ratio_lep_tau\",\t\"DER_met_phi_centrality\",\t\"DER_lep_eta_centrality\",\t\"PRI_tau_pt\",\t\"PRI_tau_eta\",\t\"PRI_tau_phi\",\t\"PRI_lep_pt\",\t\"PRI_lep_eta\",\t\"PRI_lep_phi\",\t\"PRI_met\",\t\"PRI_met_phi\",\t\"PRI_met_sumet\",\t\"PRI_jet_num\",\t\"PRI_jet_leading_pt\",\t\"PRI_jet_leading_eta\", \"PRI_jet_leading_phi\", \"PRI_jet_subleading_pt\", \"PRI_jet_subleading_eta\", \"PRI_jet_subleading_phi\", \"PRI_jet_all_pt\"]\n",
    "#\n",
    "#\n",
    "# ## Plot Box Plots\n",
    "# for i, x in enumerate(xs):\n",
    "#     for j in range(x.shape[1]):\n",
    "#         plt.boxplot(x[:, j][x[:, j]!=-999])\n",
    "#         plt.title(\"BoxPlot for: \" +  columns_names[j]  + \" of sub-dataset: \" + str(i))\n",
    "#         plt.ylabel(\"values\")\n",
    "#         plt.show()\n",
    "#\n",
    "#\n",
    "# # Plot Histograms\n",
    "# ## Plot Box Plots\n",
    "# for i, x in enumerate(xs):\n",
    "#     for j in range(x.shape[1]):\n",
    "#         plt.hist(x[:, j][x[:, j]!=-999], bins=40)\n",
    "#         plt.title(\"Histogram for: \" +  columns_names[j]  + \" of sub-dataset: \" + str(i))\n",
    "#         plt.ylabel(\"count\")\n",
    "#         plt.xlabel(\"value\")\n",
    "#         plt.show()"
   ],
   "metadata": {
    "collapsed": false
   }
  },
  {
   "cell_type": "code",
   "execution_count": 18,
   "outputs": [],
   "source": [
    "# Perform feature engineering on the samples of the TRAIN SET\n",
    "for i, x in enumerate(xs):\n",
    "    xs[i] = process_features(x)"
   ],
   "metadata": {
    "collapsed": false
   }
  },
  {
   "cell_type": "code",
   "execution_count": 19,
   "outputs": [],
   "source": [
    "# Perform 4-Fold cross validation in order to find the best hyper-parameters (lambdas) for Ridge Regression Classifier [Please uncomment if you need to redo the cross-validation.\n",
    "\n",
    "# lambdas = []\n",
    "# # for i, x, y in zip(range(len(xs)), xs, ys):\n",
    "# #     best_lambda, best_loss = do_cross_validation(x, y, nfolds = 4)\n",
    "# #     lambdas.append(best_lambda)\n",
    "# #     print(f'set {i}: Optimal lambda = {best_lambda} leads to loss = {best_loss}')"
   ],
   "metadata": {
    "collapsed": false
   }
  },
  {
   "cell_type": "code",
   "execution_count": 20,
   "outputs": [],
   "source": [
    "# lambdas for logistic regression\n",
    "lambdas = [0, 0, 0, 0]"
   ],
   "metadata": {
    "collapsed": false
   }
  },
  {
   "cell_type": "code",
   "execution_count": 21,
   "outputs": [
    {
     "name": "stdout",
     "output_type": "stream",
     "text": [
      "training the model on sub-dataset number:  0\n"
     ]
    },
    {
     "name": "stderr",
     "output_type": "stream",
     "text": [
      "/Users/aasadi/Desktop/ml-project-1-pistache/implementations.py:115: RuntimeWarning: overflow encountered in exp\n",
      "  elementwise_loss = np.log(1+np.exp(xw)) - y*xw\n",
      "/Users/aasadi/Desktop/ml-project-1-pistache/implementations.py:91: RuntimeWarning: overflow encountered in exp\n",
      "  return 1/(1+np.exp(-t))\n"
     ]
    },
    {
     "name": "stdout",
     "output_type": "stream",
     "text": [
      "100 0.001000111123458162 0.001\n",
      "200 0.0008889876652961441 0.001\n"
     ]
    },
    {
     "ename": "KeyboardInterrupt",
     "evalue": "",
     "output_type": "error",
     "traceback": [
      "\u001b[0;31m---------------------------------------------------------------------------\u001b[0m",
      "\u001b[0;31mKeyboardInterrupt\u001b[0m                         Traceback (most recent call last)",
      "Input \u001b[0;32mIn [21]\u001b[0m, in \u001b[0;36m<cell line: 6>\u001b[0;34m()\u001b[0m\n\u001b[1;32m     19\u001b[0m lr \u001b[38;5;241m=\u001b[39m \u001b[38;5;241m0.001\u001b[39m\n\u001b[1;32m     20\u001b[0m \u001b[38;5;28;01mfor\u001b[39;00m step \u001b[38;5;129;01min\u001b[39;00m \u001b[38;5;28mrange\u001b[39m(\u001b[38;5;241m1\u001b[39m, \u001b[38;5;241m2001\u001b[39m):\n\u001b[0;32m---> 21\u001b[0m     w, loss \u001b[38;5;241m=\u001b[39m \u001b[43mreg_logistic_regression\u001b[49m\u001b[43m(\u001b[49m\u001b[43my_train\u001b[49m\u001b[43m,\u001b[49m\u001b[43m \u001b[49m\u001b[43mx_train\u001b[49m\u001b[43m,\u001b[49m\u001b[43m \u001b[49m\u001b[38;5;241;43m0\u001b[39;49m\u001b[43m,\u001b[49m\u001b[43m \u001b[49m\u001b[43mw\u001b[49m\u001b[43m,\u001b[49m\u001b[43m \u001b[49m\u001b[38;5;241;43m10\u001b[39;49m\u001b[43m,\u001b[49m\u001b[43m \u001b[49m\u001b[43mlr\u001b[49m\u001b[43m)\u001b[49m\n\u001b[1;32m     22\u001b[0m     \u001b[38;5;66;03m# lr /= 1.0002\u001b[39;00m\n\u001b[1;32m     23\u001b[0m     training_iter\u001b[38;5;241m.\u001b[39mappend(step \u001b[38;5;241m*\u001b[39m \u001b[38;5;241m10\u001b[39m)\n",
      "File \u001b[0;32m~/Desktop/ml-project-1-pistache/implementations.py:362\u001b[0m, in \u001b[0;36mreg_logistic_regression\u001b[0;34m(y, tx, lambda_, initial_w, max_iters, gamma)\u001b[0m\n\u001b[1;32m    360\u001b[0m w \u001b[38;5;241m=\u001b[39m initial_w\n\u001b[1;32m    361\u001b[0m \u001b[38;5;28;01mfor\u001b[39;00m n_iter \u001b[38;5;129;01min\u001b[39;00m \u001b[38;5;28mrange\u001b[39m(max_iters):\n\u001b[0;32m--> 362\u001b[0m     loss, grad \u001b[38;5;241m=\u001b[39m \u001b[43mpenalized_logistic_regression\u001b[49m\u001b[43m(\u001b[49m\u001b[43my\u001b[49m\u001b[43m,\u001b[49m\u001b[43m \u001b[49m\u001b[43mtx\u001b[49m\u001b[43m,\u001b[49m\u001b[43m \u001b[49m\u001b[43mw\u001b[49m\u001b[43m,\u001b[49m\u001b[43m \u001b[49m\u001b[43mlambda_\u001b[49m\u001b[43m)\u001b[49m\n\u001b[1;32m    363\u001b[0m     w \u001b[38;5;241m=\u001b[39m w \u001b[38;5;241m-\u001b[39m gamma \u001b[38;5;241m*\u001b[39m grad\n\u001b[1;32m    364\u001b[0m loss \u001b[38;5;241m=\u001b[39m calculate_loss(y, tx, w)\n",
      "File \u001b[0;32m~/Desktop/ml-project-1-pistache/implementations.py:204\u001b[0m, in \u001b[0;36mpenalized_logistic_regression\u001b[0;34m(y, tx, w, lambda_)\u001b[0m\n\u001b[1;32m    179\u001b[0m \u001b[38;5;124;03m\"\"\"return the loss and gradient.\u001b[39;00m\n\u001b[1;32m    180\u001b[0m \n\u001b[1;32m    181\u001b[0m \u001b[38;5;124;03mArgs:\u001b[39;00m\n\u001b[0;32m   (...)\u001b[0m\n\u001b[1;32m    201\u001b[0m \u001b[38;5;124;03m       [ 0.57712843]])\u001b[39;00m\n\u001b[1;32m    202\u001b[0m \u001b[38;5;124;03m\"\"\"\u001b[39;00m\n\u001b[1;32m    203\u001b[0m pen_loss \u001b[38;5;241m=\u001b[39m calculate_loss(y, tx, w)\n\u001b[0;32m--> 204\u001b[0m pen_grad \u001b[38;5;241m=\u001b[39m \u001b[43mcalculate_gradient\u001b[49m\u001b[43m(\u001b[49m\u001b[43my\u001b[49m\u001b[43m,\u001b[49m\u001b[43m \u001b[49m\u001b[43mtx\u001b[49m\u001b[43m,\u001b[49m\u001b[43m \u001b[49m\u001b[43mw\u001b[49m\u001b[43m)\u001b[49m \u001b[38;5;241m+\u001b[39m \u001b[38;5;241m2\u001b[39m \u001b[38;5;241m*\u001b[39m lambda_\u001b[38;5;241m*\u001b[39mw\n\u001b[1;32m    205\u001b[0m \u001b[38;5;28;01mreturn\u001b[39;00m pen_loss, pen_grad\n",
      "File \u001b[0;32m~/Desktop/ml-project-1-pistache/implementations.py:140\u001b[0m, in \u001b[0;36mcalculate_gradient\u001b[0;34m(y, tx, w)\u001b[0m\n\u001b[1;32m    120\u001b[0m \u001b[38;5;124;03m\"\"\"compute the gradient of loss.\u001b[39;00m\n\u001b[1;32m    121\u001b[0m \n\u001b[1;32m    122\u001b[0m \u001b[38;5;124;03mArgs:\u001b[39;00m\n\u001b[0;32m   (...)\u001b[0m\n\u001b[1;32m    137\u001b[0m \u001b[38;5;124;03m       [ 0.51712843]])\u001b[39;00m\n\u001b[1;32m    138\u001b[0m \u001b[38;5;124;03m\"\"\"\u001b[39;00m\n\u001b[1;32m    139\u001b[0m \u001b[38;5;66;03m# ***************************************************\u001b[39;00m\n\u001b[0;32m--> 140\u001b[0m xw \u001b[38;5;241m=\u001b[39m \u001b[43mtx\u001b[49m\u001b[43m \u001b[49m\u001b[38;5;241;43m@\u001b[39;49m\u001b[43m \u001b[49m\u001b[43mw\u001b[49m\n\u001b[1;32m    141\u001b[0m obser_n \u001b[38;5;241m=\u001b[39m y\u001b[38;5;241m.\u001b[39mshape[\u001b[38;5;241m0\u001b[39m]\n\u001b[1;32m    142\u001b[0m \u001b[38;5;28;01mreturn\u001b[39;00m \u001b[38;5;241m1\u001b[39m \u001b[38;5;241m/\u001b[39m obser_n \u001b[38;5;241m*\u001b[39m (tx\u001b[38;5;241m.\u001b[39mT \u001b[38;5;241m@\u001b[39m (sigmoid(xw) \u001b[38;5;241m-\u001b[39m y))\n",
      "\u001b[0;31mKeyboardInterrupt\u001b[0m: "
     ]
    }
   ],
   "source": [
    "# Train the models on sub-datasets\n",
    "ws = []\n",
    "accuracies = []\n",
    "\n",
    "f1scores = []\n",
    "for i, x, y in zip(range(len(xs)), xs, ys):\n",
    "    print(\"training the model on sub-dataset number: \", i)\n",
    "    x = add_bias(x)\n",
    "\n",
    "    lambda_ = lambdas[i]\n",
    "\n",
    "    N = x.shape[0]\n",
    "    thresh = int(0.8 * N)\n",
    "    x_train, x_val = x[:thresh], x[thresh:]\n",
    "    y_train, y_val = y[:thresh], y[thresh:]\n",
    "\n",
    "    (\n",
    "        training_iter,\n",
    "        validation_iter,\n",
    "        training_loss,\n",
    "        validation_loss,\n",
    "        training_accuracy,\n",
    "        validation_accuracy,\n",
    "    ) = ([], [], [], [], [], [])\n",
    "    w = np.random.random(x_train.shape[1])\n",
    "    lr = 0.001\n",
    "    for step in range(1, 2001):\n",
    "        w, loss = reg_logistic_regression(y_train, x_train, 0, w, 10, lr)\n",
    "        # lr /= 1.0002\n",
    "        training_iter.append(step * 10)\n",
    "        training_loss.append(loss)\n",
    "        training_accuracy.append(\n",
    "            (predict_logistic(x_train, w) == y_train).sum() / len(y_train)\n",
    "        )\n",
    "\n",
    "        if step % 100 == 0:\n",
    "            validation_iter.append(step * 10)\n",
    "            validation_loss.append(\n",
    "                penalized_logistic_regression(y_val, x_val, w, 0.1)[0]\n",
    "            )\n",
    "            validation_accuracy.append(\n",
    "                (predict_logistic(x_val, w) == y_val).sum() / len(y_val)\n",
    "            )\n",
    "            print(step, validation_accuracy[-1], lr)\n",
    "\n",
    "    ws.append(w)\n",
    "    # y_pred_i = predict_logistic(x_val, w)\n",
    "    # accuracy_set_i = (y_pred_i== y_val).mean()\n",
    "    # print(\"training accuracy on set\" +  str(i) + \":\", accuracy_set_i)\n",
    "    # accuracies.append(accuracy_set_i)\n",
    "    # f1scores.append(f1(y, y_pred_i))\n",
    "\n",
    "    # w, loss = ridge_regression(y, x, lambda_)\n",
    "    # ws.append(w)\n",
    "    # y_pred_i = predict_simple(x, w)\n",
    "\n",
    "    plt.plot(training_iter, training_loss, label=\"train\")\n",
    "    plt.plot(validation_iter, validation_loss, label=\"validation\")\n",
    "    plt.grid()\n",
    "    plt.xlabel(\"num iter\")\n",
    "    plt.ylabel(\"loss\")\n",
    "    plt.title(\"Loss curve\")\n",
    "    plt.legend()\n",
    "    plt.show()\n",
    "\n",
    "    plt.plot(training_iter, training_accuracy, label=\"train\")\n",
    "    plt.plot(validation_iter, validation_accuracy, label=\"validation\")\n",
    "    plt.grid()\n",
    "    plt.xlabel(\"num iter\")\n",
    "    plt.ylabel(\"accuracy\")\n",
    "    plt.title(\"accuracy curve\")\n",
    "    plt.legend()\n",
    "    plt.show()\n",
    "\n",
    "population_percentage = np.array([p.shape[0] / X_train.shape[0] for p in xs])\n",
    "print(\n",
    "    \"\\n\\nWeighted mean accuracy for training data = \",\n",
    "    (accuracies * population_percentage).sum(),\n",
    ")\n",
    "print(\n",
    "    \"Weighted F1-Score for training data = \", (f1scores * population_percentage).sum()\n",
    ")"
   ],
   "metadata": {
    "collapsed": false
   }
  },
  {
   "cell_type": "code",
   "execution_count": null,
   "outputs": [],
   "source": [
    "# Local Testing using local test set\n",
    "\n",
    "# Partition the local test data based on the value of the PRI_JET_NUM (feature number 22)\n",
    "xs_test_local, ys_test_local, _ = partition_data(\n",
    "    X_test_local, Y_test_local, ids_test_local\n",
    ")\n",
    "\n",
    "# Perform feature engineering on the local test dataset\n",
    "for i, x in enumerate(xs_test_local):\n",
    "    xs_test_local[i] = process_features(x)"
   ],
   "metadata": {
    "collapsed": false
   }
  },
  {
   "cell_type": "code",
   "execution_count": null,
   "outputs": [],
   "source": [
    "# Perform feature engineering on the samples of the local test set\n",
    "accuracies = []\n",
    "f1scores = []\n",
    "for i, x, y in zip(range(len(xs_test_local)), xs_test_local, ys_test_local):\n",
    "    x = add_bias(x)\n",
    "    # calculate labels\n",
    "    y_pred_i = predict_simple(x, ws[i])\n",
    "    accuracy_set_i = (y_pred_i == y).mean()\n",
    "    print(\"test accuracy on set\" + str(i) + \":\", accuracy_set_i)\n",
    "    accuracies.append(accuracy_set_i)\n",
    "    f1scores.append(f1(y, y_pred_i))\n",
    "# Calculating the weighted mean accuracy across the 4 sub-datasets:\n",
    "population_percentage = np.array(\n",
    "    [p.shape[0] / X_test_local.shape[0] for p in xs_test_local]\n",
    ")\n",
    "print(\n",
    "    \"\\n\\nWeighted mean accuracy for local test set = \",\n",
    "    (accuracies * population_percentage).sum(),\n",
    ")\n",
    "print(\n",
    "    \"\\n\\nWeighted F1-Score for local test data = \",\n",
    "    (f1scores * population_percentage).sum(),\n",
    ")"
   ],
   "metadata": {
    "collapsed": false
   }
  },
  {
   "cell_type": "code",
   "execution_count": null,
   "outputs": [],
   "source": [
    "# Train the models on sub-datasets (Uncomment if you need to train the data on the whole dataset. However, it does not change the performance)\n",
    "\n",
    "Xs, Ys, _ = partition_data(X, Y, ids)\n",
    "for i, x in enumerate(Xs):\n",
    "    Xs[i] = process_features(x)\n",
    "\n",
    "Ws = []\n",
    "\n",
    "for i, x, y in zip(range(len(Xs)), Xs, Ys):\n",
    "    print(\"training the model on sub-dataset number: \", i)\n",
    "    x = add_bias(x)\n",
    "    lambda_ = lambdas[i]\n",
    "    w, loss = ridge_regression(y, x, lambda_)\n",
    "    Ws.append(w)\n",
    "ws = Ws"
   ],
   "metadata": {
    "collapsed": false
   }
  },
  {
   "cell_type": "code",
   "execution_count": null,
   "outputs": [],
   "source": [
    "# Loading the main (AICrowd) test data\n",
    "Y_test, X_test, ids_test = load_csv_data(\"data/test.csv\", sub_sample=False)"
   ],
   "metadata": {
    "collapsed": false
   }
  },
  {
   "cell_type": "code",
   "execution_count": null,
   "outputs": [],
   "source": [
    "# Partition the test data based on the value of the PRI_JET_NUM (feature number 22)\n",
    "xs_test, _, idss_test = partition_data(X_test, Y_test, ids_test)"
   ],
   "metadata": {
    "collapsed": false
   }
  },
  {
   "cell_type": "code",
   "execution_count": null,
   "outputs": [],
   "source": [
    "# Perform feature engineering on the test dataset\n",
    "for i, x in enumerate(xs_test):\n",
    "    xs_test[i] = process_features(x)"
   ],
   "metadata": {
    "collapsed": false
   }
  },
  {
   "cell_type": "code",
   "execution_count": null,
   "outputs": [],
   "source": [
    "# Finding the predictions on the test set\n",
    "labels = []\n",
    "for i, x_test in enumerate(xs_test):\n",
    "    x_test = add_bias(x_test)\n",
    "    # calculate labels\n",
    "    labels_partition = predict_simple(x_test, ws[i])\n",
    "    labels.append(labels_partition)\n",
    "\n",
    "y_preds = np.concatenate(labels)"
   ],
   "metadata": {
    "collapsed": false
   }
  },
  {
   "cell_type": "code",
   "execution_count": null,
   "outputs": [],
   "source": [
    "# Producing the sumbission.csv output\n",
    "idss_test_concat = np.concatenate(idss_test)\n",
    "idx_ids_sorted = np.argsort(idss_test_concat)\n",
    "idss_test_concat = idss_test_concat[idx_ids_sorted]\n",
    "\n",
    "y_preds = y_preds[idx_ids_sorted]\n",
    "\n",
    "create_csv_submission(idss_test_concat, y_preds, \"submission.csv\")"
   ],
   "metadata": {
    "collapsed": false
   }
  }
 ],
 "metadata": {
  "kernelspec": {
   "display_name": "Python 3",
   "language": "python",
   "name": "python3"
  },
  "language_info": {
   "codemirror_mode": {
    "name": "ipython",
    "version": 2
   },
   "file_extension": ".py",
   "mimetype": "text/x-python",
   "name": "python",
   "nbconvert_exporter": "python",
   "pygments_lexer": "ipython2",
   "version": "2.7.6"
  }
 },
 "nbformat": 4,
 "nbformat_minor": 0
}
